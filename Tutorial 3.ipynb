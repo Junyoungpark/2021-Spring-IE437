{
 "cells": [
  {
   "cell_type": "code",
   "execution_count": 1,
   "id": "527c1251",
   "metadata": {},
   "outputs": [],
   "source": [
    "from math import floor\n",
    "\n",
    "import torch\n",
    "import torch.nn as nn\n",
    "import numpy as np\n",
    "import matplotlib.pyplot as plt\n",
    "\n",
    "\n",
    "from src.LinearSimulator import Simulator, SimpleSSM\n",
    "from src.MPC import MPC\n",
    "from src.utils import set_seed"
   ]
  },
  {
   "cell_type": "markdown",
   "id": "01d195b8",
   "metadata": {},
   "source": [
    "## Setup simulator and model\n"
   ]
  },
  {
   "cell_type": "code",
   "execution_count": 2,
   "id": "87602a1d",
   "metadata": {},
   "outputs": [],
   "source": [
    "device = 'cpu'\n",
    "set_seed(seed=0, use_cuda=False)"
   ]
  },
  {
   "cell_type": "code",
   "execution_count": 3,
   "id": "8ecff2af",
   "metadata": {},
   "outputs": [],
   "source": [
    "state_dim = 2\n",
    "action_dim = 3\n",
    "\n",
    "model = SimpleSSM(state_dim, action_dim).to(device)\n",
    "simul = Simulator(state_dim, action_dim, noise=0.01).to(device)\n",
    "\n",
    "A=np.array([[0.9, 0.1],\n",
    "            [0.1, 0.9]])\n",
    "\n",
    "B=np.array([[1, -1],\n",
    "            [-1, 2],\n",
    "            [-2, 1]])\n",
    "\n",
    "model.A.weight.data = torch.tensor(A, device=device).float()\n",
    "simul.A.weight.data = torch.tensor(A, device=device).float()\n",
    "model.B.weight.data = torch.tensor(B, device=device).float()\n",
    "simul.B.weight.data = torch.tensor(B, device=device).float()"
   ]
  },
  {
   "cell_type": "code",
   "execution_count": 4,
   "id": "811256d2",
   "metadata": {},
   "outputs": [],
   "source": [
    "action_min = -1.0\n",
    "action_max = +1.0\n",
    "H = 5\n",
    "T = 100"
   ]
  },
  {
   "cell_type": "markdown",
   "id": "ddd7d0e2",
   "metadata": {},
   "source": [
    "## Set target trajectory"
   ]
  },
  {
   "cell_type": "code",
   "execution_count": 5,
   "id": "e9adc94c",
   "metadata": {},
   "outputs": [],
   "source": [
    "x_ref = torch.ones((T, state_dim), device=device) * 2.0\n",
    "recession_period = floor(T * 0.1)\n",
    "x_ref[:recession_period, :] = 0\n",
    "x_ref[-recession_period:, :] = 0"
   ]
  },
  {
   "cell_type": "code",
   "execution_count": 6,
   "id": "707023ee",
   "metadata": {},
   "outputs": [
    {
     "data": {
      "image/png": "[encoded data removed]",
      "text/plain": [
       "<Figure size 432x288 with 2 Axes>"
      ]
     },
     "metadata": {
      "needs_background": "light"
     },
     "output_type": "display_data"
    }
   ],
   "source": [
    "fig, axes = plt.subplots(2,1, sharex=True)\n",
    "for i in range(2):\n",
    "    axes[i].plot(x_ref[:,i].to('cpu'), \n",
    "                 color='C{}'.format(i),\n",
    "                 label='state {} target'.format(i))\n",
    "    axes[i].set_xlabel('time')\n",
    "    axes[i].legend()"
   ]
  },
  {
   "cell_type": "code",
   "execution_count": 7,
   "id": "b7579f74",
   "metadata": {},
   "outputs": [],
   "source": [
    "solver = MPC(model=model,\n",
    "             state_dim=state_dim,\n",
    "             action_dim=action_dim,\n",
    "             H=H,\n",
    "             action_min=action_min,\n",
    "             action_max=action_max).to(device)"
   ]
  },
  {
   "cell_type": "code",
   "execution_count": 8,
   "id": "18e658e2",
   "metadata": {
    "scrolled": false
   },
   "outputs": [
    {
     "name": "stdout",
     "output_type": "stream",
     "text": [
      "Step  0 | loss 0.0000097 | solve : True\n",
      "Step  1 | loss 0.0000094 | solve : True\n",
      "Step  2 | loss 0.0000097 | solve : True\n",
      "Step  3 | loss 0.0000096 | solve : True\n",
      "Step  4 | loss 0.0000072 | solve : True\n",
      "Step  5 | loss 0.0000099 | solve : True\n",
      "Step  6 | loss 0.1000076 | solve : False\n",
      "Step  7 | loss 0.1000084 | solve : False\n",
      "Step  8 | loss 0.4141988 | solve : False\n",
      "Step  9 | loss 0.1000024 | solve : False\n",
      "Step 10 | loss 0.0505520 | solve : False\n",
      "Step 11 | loss 0.0000099 | solve : True\n",
      "Step 12 | loss 0.0000098 | solve : True\n",
      "Step 13 | loss 0.0000096 | solve : True\n",
      "Step 14 | loss 0.0000076 | solve : True\n",
      "Step 15 | loss 0.0000099 | solve : True\n",
      "Step 16 | loss 0.0000098 | solve : True\n",
      "Step 17 | loss 0.0000099 | solve : True\n",
      "Step 18 | loss 0.0000097 | solve : True\n",
      "Step 19 | loss 0.0000098 | solve : True\n",
      "Step 20 | loss 0.0000096 | solve : True\n",
      "Step 21 | loss 0.0000096 | solve : True\n",
      "Step 22 | loss 0.0000080 | solve : True\n",
      "Step 23 | loss 0.0000099 | solve : True\n",
      "Step 24 | loss 0.0000099 | solve : True\n",
      "Step 25 | loss 0.0000098 | solve : True\n",
      "Step 26 | loss 0.0000098 | solve : True\n",
      "Step 27 | loss 0.0000098 | solve : True\n",
      "Step 28 | loss 0.0000099 | solve : True\n",
      "Step 29 | loss 0.0000099 | solve : True\n",
      "Step 30 | loss 0.0000086 | solve : True\n",
      "Step 31 | loss 0.0000080 | solve : True\n",
      "Step 32 | loss 0.0000099 | solve : True\n",
      "Step 33 | loss 0.0000100 | solve : True\n",
      "Step 34 | loss 0.0000094 | solve : True\n",
      "Step 35 | loss 0.0000058 | solve : True\n",
      "Step 36 | loss 0.0000099 | solve : True\n",
      "Step 37 | loss 0.0000099 | solve : True\n",
      "Step 38 | loss 0.0000095 | solve : True\n",
      "Step 39 | loss 0.0000096 | solve : True\n",
      "Step 40 | loss 0.0000100 | solve : True\n",
      "Step 41 | loss 0.0000099 | solve : True\n",
      "Step 42 | loss 0.0001989 | solve : False\n",
      "Step 43 | loss 0.0000100 | solve : True\n",
      "Step 44 | loss 0.0000087 | solve : True\n",
      "Step 45 | loss 0.0000098 | solve : True\n",
      "Step 46 | loss 0.0000099 | solve : True\n",
      "Step 47 | loss 0.0000100 | solve : True\n",
      "Step 48 | loss 0.0000092 | solve : True\n",
      "Step 49 | loss 0.0000098 | solve : True\n",
      "Step 50 | loss 0.0000097 | solve : True\n",
      "Step 51 | loss 0.0000066 | solve : True\n",
      "Step 52 | loss 0.0000096 | solve : True\n",
      "Step 53 | loss 0.0000094 | solve : True\n",
      "Step 54 | loss 0.0000098 | solve : True\n",
      "Step 55 | loss 0.0000090 | solve : True\n",
      "Step 56 | loss 0.0000096 | solve : True\n",
      "Step 57 | loss 0.0000099 | solve : True\n",
      "Step 58 | loss 0.0000094 | solve : True\n",
      "Step 59 | loss 0.0000099 | solve : True\n",
      "Step 60 | loss 0.0000099 | solve : True\n",
      "Step 61 | loss 0.0000090 | solve : True\n",
      "Step 62 | loss 0.0000100 | solve : True\n",
      "Step 63 | loss 0.0000095 | solve : True\n",
      "Step 64 | loss 0.0000099 | solve : True\n",
      "Step 65 | loss 0.0000095 | solve : True\n",
      "Step 66 | loss 0.0000099 | solve : True\n",
      "Step 67 | loss 0.0000097 | solve : True\n",
      "Step 68 | loss 0.0000097 | solve : True\n",
      "Step 69 | loss 0.0000099 | solve : True\n",
      "Step 70 | loss 0.0000094 | solve : True\n",
      "Step 71 | loss 0.0000097 | solve : True\n",
      "Step 72 | loss 0.0000094 | solve : True\n",
      "Step 73 | loss 0.0000098 | solve : True\n",
      "Step 74 | loss 0.0000099 | solve : True\n",
      "Step 75 | loss 0.0000094 | solve : True\n",
      "Step 76 | loss 0.0000097 | solve : True\n",
      "Step 77 | loss 0.0000099 | solve : True\n",
      "Step 78 | loss 0.0000097 | solve : True\n",
      "Step 79 | loss 0.0000065 | solve : True\n",
      "Step 80 | loss 0.0000091 | solve : True\n",
      "Step 81 | loss 0.0000098 | solve : True\n",
      "Step 82 | loss 0.0000099 | solve : True\n",
      "Step 83 | loss 0.0000060 | solve : True\n",
      "Step 84 | loss 0.0000098 | solve : True\n",
      "Step 85 | loss 0.0000096 | solve : True\n",
      "Step 86 | loss 0.1000120 | solve : False\n",
      "Step 87 | loss 0.1000010 | solve : False\n",
      "Step 88 | loss 0.1000161 | solve : False\n",
      "Step 89 | loss 0.1000671 | solve : False\n",
      "Step 90 | loss 0.0521643 | solve : False\n",
      "Step 91 | loss 0.0000100 | solve : True\n",
      "Step 92 | loss 0.0000097 | solve : True\n",
      "Step 93 | loss 0.0000087 | solve : True\n",
      "Step 94 | loss 0.0000097 | solve : True\n"
     ]
    }
   ],
   "source": [
    "x = torch.zeros((1,state_dim), device=device)\n",
    "state_trajectory = []\n",
    "action_trajectory = []\n",
    "opt_results = []\n",
    "\n",
    "for itr in range(T-H):    \n",
    "    # Solve MPC problem\n",
    "    \n",
    "    state_ref = x_ref[itr:itr+H,:]\n",
    "    state_ref = state_ref.unsqueeze(dim=0) # add batch dim\n",
    "    us, info = solver.solve(x0=x, target=state_ref, max_iter=2000)    \n",
    "    action = us[:,0,:]\n",
    "    \n",
    "    print(\"Step {:2d} | loss {:.7f} | solve : {}\".format(itr, info['loss'], info['solve']))\n",
    "    \n",
    "    # perform simulation with the optmized action\n",
    "    with torch.no_grad():        \n",
    "        x = simul(x, action.view(1,-1))\n",
    "    \n",
    "    action_trajectory.append(action)\n",
    "    state_trajectory.append(x)\n",
    "    opt_results.append(action)"
   ]
  },
  {
   "cell_type": "code",
   "execution_count": 9,
   "id": "fade9517",
   "metadata": {},
   "outputs": [],
   "source": [
    "controlled = np.concatenate(state_trajectory, axis=0)"
   ]
  },
  {
   "cell_type": "code",
   "execution_count": 10,
   "id": "9738864e",
   "metadata": {},
   "outputs": [
    {
     "data": {
      "image/png": "[encoded data removed]",
      "text/plain": [
       "<Figure size 432x288 with 2 Axes>"
      ]
     },
     "metadata": {
      "needs_background": "light"
     },
     "output_type": "display_data"
    }
   ],
   "source": [
    "fig, axes = plt.subplots(2,1, sharex=True)\n",
    "for i in range(2):\n",
    "    axes[i].plot(x_ref[:,i].to('cpu'), \n",
    "                 color='gray',\n",
    "                 ls='--',\n",
    "                 label='target'.format(i))\n",
    "    axes[i].plot(controlled[:,i], \n",
    "                 color='C{}'.format(i),\n",
    "                 label='controlled'.format(i))\n",
    "    axes[i].set_xlabel('time')\n",
    "    axes[i].legend()"
   ]
  }
 ],
 "metadata": {
  "kernelspec": {
   "display_name": "Python 3",
   "language": "python",
   "name": "python3"
  },
  "language_info": {
   "codemirror_mode": {
    "name": "ipython",
    "version": 3
   },
   "file_extension": ".py",
   "mimetype": "text/x-python",
   "name": "python",
   "nbconvert_exporter": "python",
   "pygments_lexer": "ipython3",
   "version": "3.8.8"
  }
 },
 "nbformat": 4,
 "nbformat_minor": 5
}
