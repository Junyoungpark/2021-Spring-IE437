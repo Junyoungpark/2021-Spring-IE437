{
 "cells": [
  {
   "cell_type": "markdown",
   "id": "a5eb2666",
   "metadata": {},
   "source": [
    "## Tutorial for `Type1` problem\n",
    "\n",
    "In this tutorial we will go over type 1 optimization problem which entails `nn.Module` rerpesented cost function and __no constarint__ at all.\n",
    "This type of problem is often written as follows:\n",
    "\n",
    "$$ \\min_{x} f_{\\theta}(x) $$\n",
    "\n",
    "we can find `Type1` problems quite easily. For instance assuming you are the manager of some manufactoring facilities, then your primary objective would be to maximize the yield of the manufactoring process. In industrial grade of manufactoring process the model of process is often __unknown__. hence we may need to learn the model through your favorite differentiable models such as neural networks and perform the graident based optimization to find the (local) optimums that minimize (or maximize) the yield."
   ]
  },
  {
   "cell_type": "markdown",
   "id": "bc3142cc",
   "metadata": {},
   "source": [
    "### General problem solving tricks; Cast your problem into QP, approximately.\n",
    "\n",
    "As far as I know, Convex optimization is the most general class of optmization problems where we have algorithms that can solve the problem optimally. Qudartic progamming (QP) is a type of convex optimization problems which is well developed in the side of theory and computations. We will heavily utilize QPs to solve the optimziation problems that have dependency with `torch` models.\n",
    "\n",
    "Our general problem solving tricks are as follows:\n",
    "1. Construct the cost or constraint models from the data\n",
    "2. By utilizting `torch` automatic differentiation functionality, compute the jacobian or hessians of the moodels.\n",
    "3. solve (possibley many times) QP with the estimated jacobian and hessians.\n",
    "\n",
    "> It is noteworthy that even we locally cast the problem into QP, that doesn't mean our original problem is convex. Therefore, we cannot say that this approahces we will look over can find the global optimum.\n",
    "\n",
    "### The convexity of the optimization problems\n",
    "when the objective function and the constriants are convex with respect to the optimization variblbes, then the optimization problem is convex. This tutorial doesn't assume any convexity conditions on the optimization problems, especially on models. therefore, we cannot say anything about the quality of solutions. However, in practical setups, even local optimum could be helpful.\n",
    "\n",
    ">There's few study that how can we impose the input convexity (that is, the neural network approximate the convex functions of inputs).  For the interested readers, I recommend to read following manuscripts.\n",
    "> 1. [Input Convex Neural Networks](https://github.com/locuslab/icnn)\n",
    "> 2. [Optimal Control via Nerual Networks: A convex approach](https://arxiv.org/abs/1805.11835)"
   ]
  },
  {
   "cell_type": "code",
   "execution_count": 1,
   "id": "7f639cff",
   "metadata": {},
   "outputs": [],
   "source": [
    "import torch\n",
    "import numpy as np\n",
    "import matplotlib.pyplot as plt\n",
    "from torch.utils.data import TensorDataset, DataLoader\n",
    "\n",
    "from src.utils import generate_y\n",
    "from src.MLP import MLP"
   ]
  },
  {
   "cell_type": "markdown",
   "id": "b2585186",
   "metadata": {},
   "source": [
    "## Generate training dataset\n"
   ]
  },
  {
   "cell_type": "code",
   "execution_count": 2,
   "id": "4ba5d818",
   "metadata": {},
   "outputs": [],
   "source": [
    "x_min, x_max = -4.0, 4.0\n",
    "\n",
    "xs_linspace = torch.linspace(-4, 4, 2000).view(-1, 1)\n",
    "ys_linspace = generate_y(xs_linspace)\n",
    "\n",
    "# samples to construct training dataset\n",
    "x_dist = torch.distributions.uniform.Uniform(-4.0, 4.0)\n",
    "xs = x_dist.sample(sample_shape=(500, 1))\n",
    "ys = generate_y(xs)"
   ]
  },
  {
   "cell_type": "code",
   "execution_count": 3,
   "id": "8bf34857",
   "metadata": {},
   "outputs": [],
   "source": [
    "BS = 64 # Batch size\n",
    "ds = TensorDataset(xs, ys)\n",
    "loader = DataLoader(ds, batch_size=BS, shuffle=True)"
   ]
  },
  {
   "cell_type": "markdown",
   "id": "3b5257c1",
   "metadata": {},
   "source": [
    "## Construct model\n",
    "\n",
    "Since we assume we don't have access to the system $f(x)$, we are goint to train a model and use the model $f_\\theta(x)$ as the surrogate of the system.\n",
    "In this tutorial, we use a MultiLayer Perceptron to approximate $f(x)$. We additionaly assume the obsevation data is noisy-free."
   ]
  },
  {
   "cell_type": "code",
   "execution_count": 5,
   "id": "24d3cce6",
   "metadata": {},
   "outputs": [],
   "source": [
    "input_dim, output_dim = 1, 1\n",
    "m = MLP(input_dim, output_dim, num_neurons=[128, 128])\n",
    "mse_criteria = torch.nn.MSELoss()\n",
    "opt = torch.optim.Adam(m.parameters(), lr=1e-3)"
   ]
  },
  {
   "cell_type": "code",
   "execution_count": 6,
   "id": "07db1b27",
   "metadata": {},
   "outputs": [],
   "source": [
    "input_dim, output_dim = 1, 1\n",
    "m = MLP(input_dim, output_dim, num_neurons=[128, 128])\n",
    "mse_criteria = torch.nn.MSELoss()\n",
    "opt = torch.optim.Adam(m.parameters(), lr=1e-3)"
   ]
  },
  {
   "cell_type": "code",
   "execution_count": 7,
   "id": "6f1dacb4",
   "metadata": {},
   "outputs": [
    {
     "name": "stdout",
     "output_type": "stream",
     "text": [
      "500 0.057296015322208405\n",
      "1000 0.005133075639605522\n",
      "1500 0.0004854210710618645\n"
     ]
    }
   ],
   "source": [
    "n_update = 0\n",
    "print_every = 500\n",
    "epochs = 200\n",
    "for _ in range(epochs):\n",
    "    for x, y in loader:        \n",
    "        y_pred = m(x)\n",
    "        loss = mse_criteria(y_pred, y)\n",
    "        opt.zero_grad()\n",
    "        loss.backward()\n",
    "        opt.step()\n",
    "\n",
    "        n_update += 1\n",
    "        if n_update % print_every == 0:\n",
    "            print(n_update, loss.item())"
   ]
  },
  {
   "cell_type": "code",
   "execution_count": 8,
   "id": "628919e1",
   "metadata": {},
   "outputs": [],
   "source": [
    "# save model for the later usages\n",
    "torch.save(m.state_dict(), './model.pt')"
   ]
  },
  {
   "cell_type": "markdown",
   "id": "6cc63af2",
   "metadata": {},
   "source": [
    "## Solve the unconstraint optimization problem\n",
    "Let's solve the unconstraint optimization problem with torch estmiated graidents and simple gradient descent method.\n",
    "\n"
   ]
  },
  {
   "cell_type": "code",
   "execution_count": 9,
   "id": "6769b950",
   "metadata": {},
   "outputs": [],
   "source": [
    "def minimize_y(x_init, model, num_steps=15, step_size=1e-1):\n",
    "    def _grad(model, x):\n",
    "        return torch.autograd.functional.jacobian(model, x).squeeze()\n",
    "    \n",
    "    x = x_init\n",
    "    \n",
    "    xs = [x]\n",
    "    ys = [model(x)]\n",
    "    gs = [_grad(model, x)]\n",
    "    for _ in range(num_steps):\n",
    "        grad = _grad(model, x)\n",
    "        x = (x- step_size * grad).clone()\n",
    "        y = model(x)\n",
    "        \n",
    "        xs.append(x)\n",
    "        ys.append(y)\n",
    "        gs.append(grad)\n",
    "        \n",
    "    \n",
    "    xs = torch.stack(xs).detach().numpy()\n",
    "    ys = torch.stack(ys).detach().numpy()\n",
    "    gs = torch.stack(gs).detach().numpy()    \n",
    "    return xs, ys, gs"
   ]
  },
  {
   "cell_type": "code",
   "execution_count": 11,
   "id": "be2f8eb7",
   "metadata": {},
   "outputs": [],
   "source": [
    "x_min, x_max = -4.0, 4.0\n",
    "n_steps = 40\n",
    "\n",
    "x_init = torch.tensor(np.random.uniform(x_min, x_max, 1)).float()\n",
    "opt_xs, opt_ys, grad = minimize_y(x_init, m, n_steps)"
   ]
  },
  {
   "cell_type": "code",
   "execution_count": 12,
   "id": "e761fa27",
   "metadata": {},
   "outputs": [
    {
     "data": {
      "image/png": "[encoded data removed]",
      "text/plain": [
       "<Figure size 720x360 with 1 Axes>"
      ]
     },
     "metadata": {
      "needs_background": "light"
     },
     "output_type": "display_data"
    }
   ],
   "source": [
    "pred_ys = m(xs_linspace).detach()\n",
    "\n",
    "\n",
    "fig, axes = plt.subplots(1, 1, figsize=(10, 5))\n",
    "axes.grid()\n",
    "axes.plot(xs_linspace, ys_linspace, label='Ground truth')\n",
    "axes.plot(xs_linspace, pred_ys, label='Model prediction')\n",
    "\n",
    "axes.scatter(opt_xs[0], opt_ys[0], label='Opt start', \n",
    "             c='green', marker='*', s=100.0)\n",
    "axes.scatter(opt_xs[1:], opt_ys[1:], label='NN opt', c='green')\n",
    "_ = axes.legend()"
   ]
  },
  {
   "cell_type": "code",
   "execution_count": null,
   "id": "b0cbc503",
   "metadata": {},
   "outputs": [],
   "source": []
  }
 ],
 "metadata": {
  "kernelspec": {
   "display_name": "Python 3",
   "language": "python",
   "name": "python3"
  },
  "language_info": {
   "codemirror_mode": {
    "name": "ipython",
    "version": 3
   },
   "file_extension": ".py",
   "mimetype": "text/x-python",
   "name": "python",
   "nbconvert_exporter": "python",
   "pygments_lexer": "ipython3",
   "version": "3.8.8"
  }
 },
 "nbformat": 4,
 "nbformat_minor": 5
}
